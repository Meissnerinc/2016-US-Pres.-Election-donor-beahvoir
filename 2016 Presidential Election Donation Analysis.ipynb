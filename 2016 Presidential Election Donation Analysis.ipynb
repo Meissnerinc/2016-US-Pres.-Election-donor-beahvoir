{
 "cells": [
  {
   "cell_type": "markdown",
   "metadata": {},
   "source": [
    "# Analysis of the 2016 Campaign Contribution Behavior\n",
    "\n",
    "There were two seminal news events in the last stages of the US 2016 Presidential Election: the release of the Access Hollywood tape that showed Donald Trump make inredibly lewd comments about women and the letter that FBI Director James Comey sent to Congress two weeks before the election which explained that the investigation into Hilary Clinton's emails was reopened. The investigation was reopened because of content that was found on Anthony Weiner's laptop during a different investigation. The letter was revoked a week later because the investigation turned up nothing new on Clinton who had been under investigation for the use of a privae e-mail server during her time as Secretary of State. \n",
    "\n",
    "These news events were massively covered by virtually every media outlet. In this analysis of small donation behavior, I am going to explore whether the events changed the behavior of Clinton and Trump supporters in regards to their campaign contributions. The analysis focuses on the ten most important battleground states where the election outcome was the closest: \n",
    "\n",
    "Arizona\n",
    "Florida\n",
    "Maine\n",
    "Minnesota\n",
    "Michigan\n",
    "North Carolina\n",
    "New Hampshire\n",
    "Nevada\n",
    "Pennsylvania\n",
    "Wisonsin \n",
    "\n",
    "(https://www.usnews.com/news/the-run-2016/articles/2016-11-14/the-10-closest-states-in-the-2016-election) \n",
    "\n",
    "The data used is the offical data provded by the Federal Election Commission. "
   ]
  },
  {
   "cell_type": "markdown",
   "metadata": {
    "collapsed": true
   },
   "source": [
    "## Import and Cleaning of Data\n",
    "\n",
    "First, all the data is imported and formatted to make the data malleable. All donations after the 8th of November are disregarded. The data is also reduced to two weeks, the one before and the one after the seminal events (Access Hollywood tape was released on Oct. 7, Comey letter was released on Oct. 28). \n"
   ]
  },
  {
   "cell_type": "code",
   "execution_count": null,
   "metadata": {
    "collapsed": true
   },
   "outputs": [],
   "source": [
    "import pandas as pd\n",
    "from xlsxwriter.utility import xl_rowcol_to_cell\n",
    "import datetime\n",
    "\n",
    "\n",
    "def clean_date(df):\n",
    "    df[\"contb_receipt_dt\"]=pd.to_datetime(df[\"contb_receipt_dt\"])\n",
    "    df=df.loc[df[\"contb_receipt_dt\"]<\"2016-11-09\"]\n",
    "    df=df.loc[df[\"contb_receipt_amt\"]>0]\n",
    "    return df\n",
    "\n",
    "def before_and_after(df,date,range):\n",
    "    df=df.loc[df[\"contb_receipt_dt\"]>=date-range]\n",
    "    df=df.loc[df[\"contb_receipt_dt\"]<=date+range]\n",
    "    df=df.sort_values([\"contb_receipt_dt\"],ascending=False)\n",
    "    return df\n",
    "\n",
    "\n",
    "states=[\"AZ\",\"FL\",\"ME\",\"MI\",\"MN\",\"NC\",\"NH\",\"NV\",\"PA\",\"WI\"]\n",
    "\n",
    "for state in states:\n",
    "    filename = \"C:\\Users\\malte\\OneDrive\\Coding\\Exercises\\Intro to inferential statistics\\Final Project\\Trump Raw Data\\P80001571-\"+state+\".csv\"\n",
    "    df = pd.read_csv(filename,low_memory=False)\n",
    "    df=clean_date(df)\n",
    "    writer = pd.ExcelWriter(state+\"-formatted.xlsx\", engine='xlsxwriter')\n",
    "    before_and_after(df,datetime.date(2016, 10, 07),pd.Timedelta(days=7)).to_excel(writer, sheet_name='Sheet1')\n",
    "    writer.save()"
   ]
  },
  {
   "cell_type": "markdown",
   "metadata": {},
   "source": [
    "# Analysis\n",
    "\n",
    "## Top Contributors\n",
    "\n",
    "For the first part, the top five types of contributors will be anaylzed. Contributors have to identify themselves by occupation when they make a donation. "
   ]
  },
  {
   "cell_type": "markdown",
   "metadata": {},
   "source": [
    "Top Trump Supporters"
   ]
  },
  {
   "cell_type": "code",
   "execution_count": 1,
   "metadata": {
    "collapsed": false
   },
   "outputs": [
    {
     "name": "stdout",
     "output_type": "stream",
     "text": [
      "Top 5 Contributors in AZ\n",
      "\n",
      "                       contb_receipt_amt\n",
      "contbr_occupation                       \n",
      "RETIRED                       1241838.66\n",
      "INFORMATION REQUESTED          381379.36\n",
      "CEO                             77675.38\n",
      "SELF-EMPLOYED                   76342.32\n",
      "PHYSICIAN                       50566.80\n",
      "\n",
      "Top 5 Contributors in FL\n",
      "\n",
      "                       contb_receipt_amt\n",
      "contbr_occupation                       \n",
      "RETIRED                       4898422.33\n",
      "INFORMATION REQUESTED         1752951.93\n",
      "CEO                            299010.35\n",
      "PHYSICIAN                      243284.49\n",
      "BUSINESS OWNER                 230225.11\n",
      "\n",
      "Top 5 Contributors in ME\n",
      "\n",
      "                       contb_receipt_amt\n",
      "contbr_occupation                       \n",
      "RETIRED                         87278.34\n",
      "INFORMATION REQUESTED           40087.37\n",
      "SELF-EMPLOYED                   12122.67\n",
      "OWNER                            6749.45\n",
      "BUSINESS OWNER                   5462.40\n",
      "\n",
      "Top 5 Contributors in MI\n",
      "\n",
      "                       contb_receipt_amt\n",
      "contbr_occupation                       \n",
      "RETIRED                        889716.66\n",
      "INFORMATION REQUESTED          439939.74\n",
      "PRESIDENT                       81206.22\n",
      "BUSINESS OWNER                  81009.87\n",
      "PHYSICIAN                       76117.56\n",
      "\n",
      "Top 5 Contributors in MN\n",
      "\n",
      "                       contb_receipt_amt\n",
      "contbr_occupation                       \n",
      "RETIRED                        379000.57\n",
      "INFORMATION REQUESTED          244770.65\n",
      "BUSINESS OWNER                  40776.06\n",
      "CEO                             34328.03\n",
      "PRESIDENT                       33463.63\n",
      "\n",
      "Top 5 Contributors in NC\n",
      "\n",
      "                       contb_receipt_amt\n",
      "contbr_occupation                       \n",
      "RETIRED                       1013986.22\n",
      "INFORMATION REQUESTED          505778.44\n",
      "CEO                             87163.80\n",
      "PRESIDENT                       79742.24\n",
      "SELF-EMPLOYED                   79517.56\n",
      "\n",
      "Top 5 Contributors in NH\n",
      "\n",
      "                       contb_receipt_amt\n",
      "contbr_occupation                       \n",
      "RETIRED                        159649.31\n",
      "INFORMATION REQUESTED           57261.51\n",
      "CEO                             21038.29\n",
      "SELF-EMPLOYED                   14310.80\n",
      "OWNER                           13338.63\n",
      "\n",
      "Top 5 Contributors in NV\n",
      "\n",
      "                       contb_receipt_amt\n",
      "contbr_occupation                       \n",
      "RETIRED                        737884.66\n",
      "INFORMATION REQUESTED          193367.14\n",
      "CEO                             53076.22\n",
      "SELF-EMPLOYED                   34084.55\n",
      "HOMEMAKER                       29164.97\n",
      "\n",
      "Top 5 Contributors in PA\n",
      "\n",
      "                       contb_receipt_amt\n",
      "contbr_occupation                       \n",
      "RETIRED                       1070296.55\n",
      "INFORMATION REQUESTED          716519.78\n",
      "PRESIDENT                      128037.08\n",
      "PHYSICIAN                      117854.12\n",
      "OWNER                           88756.86\n",
      "\n",
      "Top 5 Contributors in WI\n",
      "\n",
      "                       contb_receipt_amt\n",
      "contbr_occupation                       \n",
      "RETIRED                        453214.74\n",
      "INFORMATION REQUESTED          211835.80\n",
      "PHYSICIAN                       41950.96\n",
      "PRESIDENT                       38096.65\n",
      "OWNER                           36391.14\n",
      "\n"
     ]
    }
   ],
   "source": [
    "import pandas as pd\n",
    "\n",
    "states=[\"AZ\",\"FL\",\"ME\",\"MI\",\"MN\",\"NC\",\"NH\",\"NV\",\"PA\",\"WI\"]\n",
    "\n",
    "def top_contributors(df):\n",
    "    contributors = pd.DataFrame(df.groupby(\"contbr_occupation\")[\"contb_receipt_amt\"].sum())\n",
    "    print \"Top 5 Contributors in \" + str(df[\"contbr_st\"].iloc[0])\n",
    "    print \"\"\n",
    "    print contributors.sort_values([\"contb_receipt_amt\"],ascending=False).iloc[:5]\n",
    "    print \"\"\n",
    "\n",
    "for state in states:\n",
    "    filename = \"C:/Users/malte/OneDrive/Coding/Exercises/Intro to inferential statistics/Final Project/Trump Raw/P80001571-\"+state+\".csv\"\n",
    "    df = pd.read_csv(filename,low_memory=False)\n",
    "    top_contributors(df)\n",
    "\n"
   ]
  },
  {
   "cell_type": "markdown",
   "metadata": {},
   "source": [
    "Top Clinton Supporters "
   ]
  },
  {
   "cell_type": "code",
   "execution_count": 2,
   "metadata": {
    "collapsed": false
   },
   "outputs": [
    {
     "name": "stdout",
     "output_type": "stream",
     "text": [
      "Top 5 Contributors in AZ\n",
      "\n",
      "                       contb_receipt_amt\n",
      "contbr_occupation                       \n",
      "RETIRED                       1268217.76\n",
      "ATTORNEY                       236954.40\n",
      "INFORMATION REQUESTED          214587.69\n",
      "PHYSICIAN                      205846.47\n",
      "CONSULTANT                     105827.57\n",
      "\n",
      "Top 5 Contributors in FL\n",
      "\n",
      "                       contb_receipt_amt\n",
      "contbr_occupation                       \n",
      "RETIRED                       5131147.54\n",
      "ATTORNEY                      2319643.63\n",
      "INFORMATION REQUESTED         1039447.73\n",
      "HOMEMAKER                      648414.07\n",
      "PHYSICIAN                      567061.03\n",
      "\n",
      "Top 5 Contributors in ME\n",
      "\n",
      "                       contb_receipt_amt\n",
      "contbr_occupation                       \n",
      "RETIRED                        448219.58\n",
      "ATTORNEY                       104623.27\n",
      "INFORMATION REQUESTED           90871.08\n",
      "CONSULTANT                      57386.62\n",
      "LAWYER                          49164.20\n",
      "\n",
      "Top 5 Contributors in MI\n",
      "\n",
      "                       contb_receipt_amt\n",
      "contbr_occupation                       \n",
      "RETIRED                       1473710.13\n",
      "ATTORNEY                       541183.93\n",
      "INFORMATION REQUESTED          337093.22\n",
      "PROFESSOR                      277003.00\n",
      "PHYSICIAN                      244973.46\n",
      "\n",
      "Top 5 Contributors in MN\n",
      "\n",
      "                       contb_receipt_amt\n",
      "contbr_occupation                       \n",
      "RETIRED                       1185245.88\n",
      "ATTORNEY                       374601.75\n",
      "INFORMATION REQUESTED          239087.48\n",
      "PHYSICIAN                      190799.94\n",
      "CONSULTANT                     153377.17\n",
      "\n",
      "Top 5 Contributors in NC\n",
      "\n",
      "                       contb_receipt_amt\n",
      "contbr_occupation                       \n",
      "RETIRED                       1542910.88\n",
      "ATTORNEY                       443870.91\n",
      "INFORMATION REQUESTED          299464.11\n",
      "PHYSICIAN                      246083.67\n",
      "HOMEMAKER                      209299.25\n",
      "\n",
      "Top 5 Contributors in NH\n",
      "\n",
      "                       contb_receipt_amt\n",
      "contbr_occupation                       \n",
      "RETIRED                        451782.24\n",
      "PROFESSOR                       68070.31\n",
      "INFORMATION REQUESTED           66556.22\n",
      "ATTORNEY                        61395.14\n",
      "NOT EMPLOYED                    37097.86\n",
      "\n",
      "Top 5 Contributors in NV\n",
      "\n",
      "                       contb_receipt_amt\n",
      "contbr_occupation                       \n",
      "RETIRED                        536491.55\n",
      "ATTORNEY                       148507.12\n",
      "PHYSICIAN                      108102.08\n",
      "INFORMATION REQUESTED           68581.34\n",
      "HOMEMAKER                       67791.10\n",
      "\n",
      "Top 5 Contributors in PA\n",
      "\n",
      "                       contb_receipt_amt\n",
      "contbr_occupation                       \n",
      "RETIRED                       2328867.92\n",
      "ATTORNEY                      1215368.65\n",
      "INFORMATION REQUESTED          694776.62\n",
      "PHYSICIAN                      479011.11\n",
      "PROFESSOR                      419946.93\n",
      "\n",
      "Top 5 Contributors in WI\n",
      "\n",
      "                       contb_receipt_amt\n",
      "contbr_occupation                       \n",
      "RETIRED                        811348.25\n",
      "INFORMATION REQUESTED          170461.90\n",
      "ATTORNEY                       153087.33\n",
      "PHYSICIAN                      109960.16\n",
      "PROFESSOR                       75009.04\n",
      "\n"
     ]
    }
   ],
   "source": [
    "states=[\"AZ\",\"FL\",\"ME\",\"MI\",\"MN\",\"NC\",\"NH\",\"NV\",\"PA\",\"WI\"]\n",
    "\n",
    "def top_contributors(df):\n",
    "    contributors = pd.DataFrame(df.groupby(\"contbr_occupation\")[\"contb_receipt_amt\"].sum())\n",
    "    print \"Top 5 Contributors in \" + str(df[\"contbr_st\"].iloc[0])\n",
    "    print \"\"\n",
    "    print contributors.sort_values([\"contb_receipt_amt\"],ascending=False).iloc[:5]\n",
    "    print \"\"\n",
    "\n",
    "for state in states:\n",
    "    filename = \"C:/Users/malte/OneDrive/Coding/Exercises/Intro to inferential statistics/Final Project/Clinton Raw/P00003392-\"+state+\".csv\"\n",
    "    df = pd.read_csv(filename,low_memory=False)\n",
    "    top_contributors(df)\n",
    "\n"
   ]
  },
  {
   "cell_type": "markdown",
   "metadata": {
    "collapsed": true
   },
   "source": [
    "Both Clinton and Trump received their largest share of campaign donations from retirees. Trump seems to have drawn more donations from the business sector whereas Clinton attracted more donations from physicians and lawyers. "
   ]
  },
  {
   "cell_type": "markdown",
   "metadata": {},
   "source": [
    "# Method of Comparison\n",
    "\n",
    "In order to compare the effect of the two significant events on the donor behavior, I will use the statistical method of chi-square. This will determine whether the difference in donations is statistically significant. Our level of statistical significance is alpha=0.05 for a two-tailored test. That means that the change we observe will only be deemed signifcant if its likeliness to occur is less than 5%, by random sampling. \n",
    "\n",
    "Our chi-square critical value is **+/- 19.023**. Our statistical test needs to produce a value higher than the positive critical value or lower than the negative one in order to be regarded as significant."
   ]
  },
  {
   "cell_type": "markdown",
   "metadata": {},
   "source": [
    "# Impact of the Access Hollywood Tape\n",
    "\n",
    "\n",
    "In order to analyze the impact of the Access Hollywood tape on Trump donors, we can compare the mean amount of donations between the week prior and the week after the tape was leaked."
   ]
  },
  {
   "cell_type": "code",
   "execution_count": 8,
   "metadata": {
    "collapsed": false
   },
   "outputs": [
    {
     "name": "stdout",
     "output_type": "stream",
     "text": [
      "     before    after\n",
      "AZ  321.325  280.069\n",
      "FL   357.49  393.551\n",
      "ME  319.502  285.543\n",
      "MI  338.477  543.811\n",
      "MN  322.686  282.707\n",
      "NC  283.412  297.383\n",
      "NH  279.078  335.794\n",
      "NV  320.641  387.157\n",
      "PA   268.71   417.39\n",
      "WI  335.184   441.75\n"
     ]
    }
   ],
   "source": [
    "import pandas as pd\n",
    "import datetime\n",
    "\n",
    "def before_and_after(df):\n",
    "    df_before=df.loc[df[\"contb_receipt_dt\"]>=datetime.date(2016, 10, 07)]\n",
    "    df_after=df.loc[df[\"contb_receipt_dt\"]<datetime.date(2016, 10, 07)]\n",
    "    return df_before[\"contb_receipt_amt\"].mean(),df_after[\"contb_receipt_amt\"].mean()\n",
    "\n",
    "states=[\"AZ\",\"FL\",\"ME\",\"MI\",\"MN\",\"NC\",\"NH\",\"NV\",\"PA\",\"WI\"]\n",
    "\n",
    "c=0\n",
    "df_chi=pd.DataFrame([],states,columns=[\"before\",\"after\"])\n",
    "\n",
    "for state in states:\n",
    "    filename = \"C:/Users/malte/OneDrive/Coding/Exercises/Intro to inferential statistics/Final Project/Trump Formatted/\"+state+\"-formatted.xlsx\"\n",
    "    df = pd.read_excel(filename)\n",
    "    before,after=before_and_after(df)\n",
    "    df_chi.set_value(state,\"before\",before)\n",
    "    df_chi.set_value(state,\"after\",after)\n",
    "    c+=1\n",
    "\n",
    "print df_chi"
   ]
  },
  {
   "cell_type": "markdown",
   "metadata": {},
   "source": [
    "Now we will compute our chi-square value. "
   ]
  },
  {
   "cell_type": "code",
   "execution_count": 10,
   "metadata": {
    "collapsed": false
   },
   "outputs": [
    {
     "name": "stdout",
     "output_type": "stream",
     "text": [
      "284.220686669\n"
     ]
    }
   ],
   "source": [
    "se=df_chi[\"before\"]\n",
    "s2=df_chi[\"after\"]\n",
    "n=20\n",
    "df=len(se)-1\n",
    "\n",
    "new_s = ((s2-se)**2)/se\n",
    "\n",
    "chi_squared = new_s.sum()\n",
    "\n",
    "print chi_squared\n"
   ]
  },
  {
   "cell_type": "markdown",
   "metadata": {},
   "source": [
    "Our chi-square level of **284.22** is much higher than our critical value at **19.023**. We can conclude that the Access Hollywood tape  made a real difference in donation behavior for Donald Trump. It significantly increased contributions in these ten crticial states. \n"
   ]
  },
  {
   "cell_type": "markdown",
   "metadata": {},
   "source": [
    "# Impact of the Comey Letter\n",
    "\n",
    "We will now do the same for the Clinton campaign. First we will compute the mean amounts before and after the letter was released."
   ]
  },
  {
   "cell_type": "code",
   "execution_count": 13,
   "metadata": {
    "collapsed": false
   },
   "outputs": [
    {
     "name": "stdout",
     "output_type": "stream",
     "text": [
      "     before    after\n",
      "AZ  58.1687  44.1232\n",
      "FL  63.1427  63.6861\n",
      "ME  61.5934   49.975\n",
      "MI   63.206  63.3837\n",
      "MN  62.0407  60.8012\n",
      "NC  66.6862  61.6529\n",
      "NH  65.1342  61.8674\n",
      "NV  58.6889  45.4493\n",
      "PA  66.7969  59.5103\n",
      "WI  63.8634  53.4364\n"
     ]
    }
   ],
   "source": [
    "def before_and_after(df):\n",
    "    df_before=df.loc[df[\"contb_receipt_dt\"]>=datetime.date(2016, 10, 28)]\n",
    "    df_after=df.loc[df[\"contb_receipt_dt\"]<datetime.date(2016, 10, 28)]\n",
    "    return df_before[\"contb_receipt_amt\"].mean(),df_after[\"contb_receipt_amt\"].mean()\n",
    "\n",
    "states=[\"AZ\",\"FL\",\"ME\",\"MI\",\"MN\",\"NC\",\"NH\",\"NV\",\"PA\",\"WI\"]\n",
    "\n",
    "c=0\n",
    "df_chi=pd.DataFrame([],states,columns=[\"before\",\"after\"])\n",
    "\n",
    "for state in states:\n",
    "    filename = \"C:/Users/malte/OneDrive/Coding/Exercises/Intro to inferential statistics/Final Project/Clinton Formatted/\"+state+\"-formatted.xlsx\"\n",
    "    df = pd.read_excel(filename)\n",
    "    before,after=before_and_after(df)\n",
    "    df_chi.set_value(state,\"before\",before)\n",
    "    df_chi.set_value(state,\"after\",after)\n",
    "    c+=1\n",
    "\n",
    "print df_chi"
   ]
  },
  {
   "cell_type": "markdown",
   "metadata": {},
   "source": [
    "Now we will compute our chi-square value."
   ]
  },
  {
   "cell_type": "code",
   "execution_count": 14,
   "metadata": {
    "collapsed": false
   },
   "outputs": [
    {
     "name": "stdout",
     "output_type": "stream",
     "text": [
      "11.6407169835\n"
     ]
    }
   ],
   "source": [
    "se=df_chi[\"before\"]\n",
    "s2=df_chi[\"after\"]\n",
    "n=20\n",
    "df=len(se)-1\n",
    "\n",
    "new_s = ((s2-se)**2)/se\n",
    "\n",
    "chi_squared = new_s.sum()\n",
    "\n",
    "print chi_squared"
   ]
  },
  {
   "cell_type": "markdown",
   "metadata": {},
   "source": [
    "This time, our chi-square value of **11.64** is not significant. Donor behavior did not change to a statistically relevant degree after the letter was revealed. "
   ]
  },
  {
   "cell_type": "markdown",
   "metadata": {},
   "source": [
    "## Conclusion\n",
    "\n",
    "Though this analysis is very limited in scope, it does reveal one of the reasons for the outcome of the 2016 US Presidential election: Hilary Clinton lacked base support. \n",
    "\n",
    "Not only did the Trump campaign manage to attract more small donations from individuals (observed in the difference between donation means between Clinton and Trump), more importantly its donors responded directly to their candidate when he needed it. To be clear: instead of backing away from their candidate after they had proof that he sexually harassed women, they instead supported him even more. Though morally reprehensible, it does show that the Trump campaign managed to accumulate a more passionate base support than the Clinton campaign did, which is one of the main factors that eventually cost her the electoral college win. "
   ]
  }
 ],
 "metadata": {
  "anaconda-cloud": {},
  "celltoolbar": "Edit Metadata",
  "kernelspec": {
   "display_name": "Python [default]",
   "language": "python",
   "name": "python2"
  },
  "language_info": {
   "codemirror_mode": {
    "name": "ipython",
    "version": 2
   },
   "file_extension": ".py",
   "mimetype": "text/x-python",
   "name": "python",
   "nbconvert_exporter": "python",
   "pygments_lexer": "ipython2",
   "version": "2.7.13"
  }
 },
 "nbformat": 4,
 "nbformat_minor": 2
}
